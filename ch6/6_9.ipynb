{
 "cells": [
  {
   "cell_type": "code",
   "execution_count": 1,
   "metadata": {},
   "outputs": [],
   "source": [
    "import random\n",
    "import numpy as np\n",
    "import matplotlib.pyplot as plt\n",
    "from sarsa import Sarsa\n",
    "%matplotlib inline"
   ]
  },
  {
   "cell_type": "code",
   "execution_count": 2,
   "metadata": {},
   "outputs": [],
   "source": [
    "class Grid:\n",
    "    def __init__(self, w, h, wind):\n",
    "        self.w = w\n",
    "        self.h = h\n",
    "        self.wind = wind\n",
    "        self.actions = list(range(9))\n",
    "        self.states = [tuple([i, j]) for j in range(self.h) for i in range(self.w)]\n",
    "        self.starting_state = tuple([0, 3])\n",
    "        self.terminal_states = [tuple([7, 3])]\n",
    "    \n",
    "    def take_action(self, state, action):\n",
    "        #locations are x, y\n",
    "        x = state[0]\n",
    "        y = state[1]\n",
    "        y += wind[x]\n",
    "        if action == 0: # up\n",
    "            x += 0\n",
    "            y += 1\n",
    "        if action == 1: # up, right\n",
    "            x += 1\n",
    "            y += 1\n",
    "        if action == 2: # right\n",
    "            x += 1\n",
    "            y += 0\n",
    "        if action == 3: # right, down\n",
    "            x += 1\n",
    "            y += -1\n",
    "        if action == 4: # down\n",
    "            x += 0\n",
    "            y += -1\n",
    "        if action == 5: # left, down\n",
    "            x += -1\n",
    "            y += -1\n",
    "        if action == 6: # left\n",
    "            x += -1\n",
    "            y += 0\n",
    "        if action == 7: # up, left\n",
    "            x += -1\n",
    "            y += 1\n",
    "        if action == 8: # No move\n",
    "            x += 0\n",
    "            y += 0\n",
    "        if x>= self.w:\n",
    "            x = self.w - 1\n",
    "        if y >= self.h:\n",
    "            y = self.h - 1\n",
    "        if y < 0:\n",
    "            y = 0\n",
    "        if x < 0:\n",
    "            x = 0\n",
    "        r = -1\n",
    "        return tuple([x, y]), r\n",
    "\n",
    "        \n",
    "        "
   ]
  },
  {
   "cell_type": "code",
   "execution_count": 3,
   "metadata": {},
   "outputs": [
    {
     "name": "stdout",
     "output_type": "stream",
     "text": [
      "15\n",
      "18.66\n"
     ]
    },
    {
     "data": {
      "text/plain": [
       "[<matplotlib.lines.Line2D at 0x11fb98588>]"
      ]
     },
     "execution_count": 3,
     "metadata": {},
     "output_type": "execute_result"
    },
    {
     "data": {
      "image/png": "[encoded data removed]",
      "text/plain": [
       "<Figure size 432x288 with 1 Axes>"
      ]
     },
     "metadata": {
      "needs_background": "light"
     },
     "output_type": "display_data"
    }
   ],
   "source": [
    "wind = [0, 0, 0, 1, 1, 1, 2, 2, 1, 0]\n",
    "a = Grid(w=len(wind), h=7, wind=wind)\n",
    "a.actions = [0, 2, 4, 6]\n",
    "b = Sarsa(a, alpha=.5, eps=.1)\n",
    "counts = []\n",
    "for i in range(10000):\n",
    "    counts.append(b.run_episode())\n",
    "print(min(counts))\n",
    "print(sum(counts[-200:])/200)\n",
    "plt.plot(counts[10:])"
   ]
  },
  {
   "cell_type": "code",
   "execution_count": 4,
   "metadata": {},
   "outputs": [
    {
     "name": "stdout",
     "output_type": "stream",
     "text": [
      "7\n",
      "10.93\n"
     ]
    },
    {
     "data": {
      "text/plain": [
       "[<matplotlib.lines.Line2D at 0x1108cfd30>]"
      ]
     },
     "execution_count": 4,
     "metadata": {},
     "output_type": "execute_result"
    },
    {
     "data": {
      "image/png": "[encoded data removed]",
      "text/plain": [
       "<Figure size 432x288 with 1 Axes>"
      ]
     },
     "metadata": {
      "needs_background": "light"
     },
     "output_type": "display_data"
    }
   ],
   "source": [
    "wind = [0, 0, 0, 1, 1, 1, 2, 2, 1, 0]\n",
    "a = Grid(w=len(wind), h=7, wind=wind)\n",
    "a.actions = list(range(8))\n",
    "b = Sarsa(a, alpha=.5, eps=.1)\n",
    "counts = []\n",
    "for i in range(10000):\n",
    "    counts.append(b.run_episode())\n",
    "print(min(counts))\n",
    "print(sum(counts[-200:])/200)\n",
    "plt.plot(counts[10:])"
   ]
  },
  {
   "cell_type": "code",
   "execution_count": 5,
   "metadata": {},
   "outputs": [
    {
     "name": "stdout",
     "output_type": "stream",
     "text": [
      "7\n",
      "10.17\n"
     ]
    },
    {
     "data": {
      "text/plain": [
       "[<matplotlib.lines.Line2D at 0x11fd704a8>]"
      ]
     },
     "execution_count": 5,
     "metadata": {},
     "output_type": "execute_result"
    },
    {
     "data": {
      "image/png": "[encoded data removed]",
      "text/plain": [
       "<Figure size 432x288 with 1 Axes>"
      ]
     },
     "metadata": {
      "needs_background": "light"
     },
     "output_type": "display_data"
    }
   ],
   "source": [
    "wind = [0, 0, 0, 1, 1, 1, 2, 2, 1, 0]\n",
    "a = Grid(w=len(wind), h=7, wind=wind)\n",
    "a.actions = list(range(9))\n",
    "b = Sarsa(a, alpha=.5, eps=.1)\n",
    "counts = []\n",
    "for i in range(10000):\n",
    "    counts.append(b.run_episode())\n",
    "print(min(counts))\n",
    "print(sum(counts[-200:])/200)\n",
    "plt.plot(counts[10:])"
   ]
  },
  {
   "cell_type": "code",
   "execution_count": null,
   "metadata": {},
   "outputs": [],
   "source": []
  }
 ],
 "metadata": {
  "kernelspec": {
   "display_name": "Python 3",
   "language": "python",
   "name": "python3"
  },
  "language_info": {
   "codemirror_mode": {
    "name": "ipython",
    "version": 3
   },
   "file_extension": ".py",
   "mimetype": "text/x-python",
   "name": "python",
   "nbconvert_exporter": "python",
   "pygments_lexer": "ipython3",
   "version": "3.7.3"
  }
 },
 "nbformat": 4,
 "nbformat_minor": 4
}
