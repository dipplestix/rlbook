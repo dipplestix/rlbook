{
 "cells": [
  {
   "cell_type": "code",
   "execution_count": 1,
   "metadata": {},
   "outputs": [],
   "source": [
    "import numpy as np\n",
    "import pandas as pd\n",
    "import random\n",
    "import matplotlib.pyplot as plt\n",
    "from mpl_toolkits.mplot3d import Axes3D\n",
    "from mpl_toolkits.mplot3d import axes3d"
   ]
  },
  {
   "cell_type": "code",
   "execution_count": 2,
   "metadata": {},
   "outputs": [],
   "source": [
    "a = [0, 1]\n",
    "d = ['A', 2, 3, 4, 5, 6, 7, 8, 9, 10, 10, 10, 10]\n",
    "set_d =  ['A', 2, 3, 4, 5, 6, 7, 8, 9, 10]\n",
    "r = {x: {i: {j: [0, 0] for j in set_d} for i in range(11, 22)} for x in ['A', 'NA']}\n",
    "c = {x: {i: {j: [0, 0] for j in set_d} for i in range(11, 22)} for x in ['A', 'NA']}\n",
    "p = {x: {i: {j: 1 for j in set_d} for i in range(11, 22)} for x in ['A', 'NA']}\n",
    "v = {x:int(x) if x != 'A' else 11 for x in d}"
   ]
  },
  {
   "cell_type": "code",
   "execution_count": 3,
   "metadata": {},
   "outputs": [],
   "source": [
    "class Blackjack:\n",
    "    def __init__(self, deck, actions, values, returns, pi, count):\n",
    "        self.deck = deck\n",
    "        self.actions = actions\n",
    "        self.values = values\n",
    "        self.returns = returns\n",
    "        self.pi = pi\n",
    "        self.count = count\n",
    "    \n",
    "    def play_game(self, n=10**8):\n",
    "        for i in range(n):\n",
    "            if i % 10**7 == 0:\n",
    "                print(i)\n",
    "            self.play_hand()     \n",
    "            \n",
    "    def play_hand(self):\n",
    "        # Create list of states visited and actions taken\n",
    "        states_visited = []\n",
    "        actions_taken = []\n",
    "        # Draw 2 cards for player, 1 for dealer\n",
    "        hand = random.sample(self.deck, 2)\n",
    "        dealer_hand = [random.choice(self.deck)]\n",
    "        first_d = dealer_hand[0]\n",
    "        # Choose one of the two action at random\n",
    "        action = random.choice(self.actions)\n",
    "        # Check for blackjack\n",
    "        val = get_val(hand, self.values)\n",
    "        has_ace = 'A' if 'A' in hand else 'NA'\n",
    "        if val == 21:\n",
    "            complete = True\n",
    "            dealer_hand.append(random.choice(self.deck))\n",
    "            dealer_val = get_val(dealer_hand, self.values)\n",
    "            if dealer_val == 21:\n",
    "                reward = 0\n",
    "            else:\n",
    "                reward = 1\n",
    "            states_visited = [[has_ace, val, first_d]]\n",
    "            actions_taken = [0]\n",
    "        # If caeds are worth less than 10, take a hit\n",
    "        while val <= 10:\n",
    "            hand.append(random.choice(self.deck))\n",
    "            val = get_val(hand, self.values)\n",
    "        # Play the hand\n",
    "        complete = False\n",
    "        while not complete:\n",
    "            states_visited.append([has_ace, val, first_d])\n",
    "            actions_taken.append(action)\n",
    "            # Perform the hit action\n",
    "            if action == 1:\n",
    "                hand.append(random.choice(self.deck))\n",
    "            has_ace = 'A' if 'A' in hand else 'NA'\n",
    "            val = get_val(hand, self.values)\n",
    "            if val > 21 and has_ace == 'A':\n",
    "                val -= 10\n",
    "                has_ace = 'NA'\n",
    "            if val > 21:\n",
    "                reward = -1\n",
    "                complete = True\n",
    "            elif action == 0 and val <= 21:\n",
    "                complete = True\n",
    "                dealer_val = get_val(dealer_hand, self.values)\n",
    "                while dealer_val < 17:\n",
    "                    dealer_hand.append(random.choice(self.deck))\n",
    "                    dealer_val = get_val(dealer_hand, self.values)\n",
    "                    has_ace = 'A' if 'A' in dealer_hand else 'NA'\n",
    "                    if dealer_val > 21 and has_ace == 'A':\n",
    "                        dealer_val -= 10\n",
    "                if dealer_val > 21:\n",
    "                    reward = 1\n",
    "                elif dealer_val < val:\n",
    "                    reward = 1\n",
    "                elif dealer_val > val:\n",
    "                    reward = -1\n",
    "                else:\n",
    "                    reward = 0\n",
    "                complete = True\n",
    "            else:\n",
    "                action = self.pi[has_ace][val][first_d]\n",
    "        for i, state in enumerate(states_visited):\n",
    "            self.count[state[0]][state[1]][state[2]][actions_taken[i]] += 1\n",
    "            self.returns[state[0]][state[1]][state[2]][actions_taken[i]] += 1/(self.count[state[0]][state[1]][state[2]][actions_taken[i]])*(reward-self.returns[state[0]][state[1]][state[2]][actions_taken[i]])\n",
    "            self.pi[state[0]][state[1]][state[2]] = self.returns[state[0]][state[1]][first_d].index(max(self.returns[state[0]][state[1]][state[2]]))\n",
    "\n",
    "\n",
    "def get_val(hand, values):\n",
    "    return sum([values[card] for card in hand])   \n"
   ]
  },
  {
   "cell_type": "code",
   "execution_count": 4,
   "metadata": {},
   "outputs": [],
   "source": [
    "test = Blackjack(d, a, v, r, p, c)"
   ]
  },
  {
   "cell_type": "code",
   "execution_count": 5,
   "metadata": {},
   "outputs": [
    {
     "name": "stdout",
     "output_type": "stream",
     "text": [
      "0\n",
      "10000000\n",
      "20000000\n",
      "30000000\n",
      "40000000\n",
      "50000000\n",
      "60000000\n",
      "70000000\n",
      "80000000\n",
      "90000000\n"
     ]
    }
   ],
   "source": [
    "test.play_game()"
   ]
  },
  {
   "cell_type": "code",
   "execution_count": 6,
   "metadata": {},
   "outputs": [
    {
     "data": {
      "image/png": "[encoded data removed]",
      "text/plain": [
       "<Figure size 432x288 with 1 Axes>"
      ]
     },
     "metadata": {
      "needs_background": "light"
     },
     "output_type": "display_data"
    }
   ],
   "source": [
    "x = [str(x) for x in set_d]\n",
    "y = [str(x) for x in range(21, 10, -1)]\n",
    "order = list(test.pi['NA'].keys())\n",
    "order.reverse()\n",
    "z = np.array([list(test.pi['NA'][a].values()) for a in order])\n",
    "fig, ax = plt.subplots()\n",
    "im = ax.imshow(z)\n",
    "ax.set_xticks(np.arange(len(x)))\n",
    "ax.set_yticks(np.arange(len(y)))\n",
    "ax.set_xticklabels(x)\n",
    "ax.set_yticklabels(y)\n",
    "\n",
    "# Loop over data dimensions and create text annotations.\n",
    "for i in range(len(y)):\n",
    "    for j in range(len(x)):\n",
    "        text = ax.text(j, i, z[i, j],\n",
    "                       ha=\"center\", va=\"center\", color=\"w\")\n"
   ]
  },
  {
   "cell_type": "code",
   "execution_count": 7,
   "metadata": {},
   "outputs": [
    {
     "data": {
      "image/png": "[encoded data removed]",
      "text/plain": [
       "<Figure size 432x288 with 1 Axes>"
      ]
     },
     "metadata": {
      "needs_background": "light"
     },
     "output_type": "display_data"
    }
   ],
   "source": [
    "x = [str(x) for x in set_d]\n",
    "y = [str(x) for x in range(21, 10, -1)]\n",
    "order = list(test.pi['A'].keys())\n",
    "order.reverse()\n",
    "z = np.array([list(test.pi['A'][a].values()) for a in order])\n",
    "fig, ax = plt.subplots()\n",
    "im = ax.imshow(z)\n",
    "ax.set_xticks(np.arange(len(x)))\n",
    "ax.set_yticks(np.arange(len(y)))\n",
    "ax.set_xticklabels(x)\n",
    "ax.set_yticklabels(y)\n",
    "\n",
    "# Loop over data dimensions and create text annotations.\n",
    "for i in range(len(y)):\n",
    "    for j in range(len(x)):\n",
    "        text = ax.text(j, i, z[i, j],\n",
    "                       ha=\"center\", va=\"center\", color=\"w\")\n"
   ]
  },
  {
   "cell_type": "code",
   "execution_count": null,
   "metadata": {},
   "outputs": [],
   "source": []
  }
 ],
 "metadata": {
  "kernelspec": {
   "display_name": "Python 3",
   "language": "python",
   "name": "python3"
  },
  "language_info": {
   "codemirror_mode": {
    "name": "ipython",
    "version": 3
   },
   "file_extension": ".py",
   "mimetype": "text/x-python",
   "name": "python",
   "nbconvert_exporter": "python",
   "pygments_lexer": "ipython3",
   "version": "3.7.3"
  }
 },
 "nbformat": 4,
 "nbformat_minor": 2
}
