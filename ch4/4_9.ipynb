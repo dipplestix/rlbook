{
 "cells": [
  {
   "cell_type": "code",
   "execution_count": 1,
   "metadata": {},
   "outputs": [],
   "source": [
    "import matplotlib.pyplot as plt \n",
    "import numpy.random as random\n",
    "import numpy as np\n",
    "import copy\n",
    "%matplotlib inline"
   ]
  },
  {
   "cell_type": "code",
   "execution_count": 2,
   "metadata": {},
   "outputs": [],
   "source": [
    "class Gambler:\n",
    "    def __init__(self, max_coins=100, ph=.4):\n",
    "        self.max_coins = max_coins\n",
    "        self.ph = ph\n",
    "        self.states = [c for c in range(max_coins+1)]\n",
    "        self.actions = [c for c in range(max_coins)]\n",
    "        self.V = [0 for s in self.states]\n",
    "        self.pi = [s for s in self.states]\n",
    "        self.dynamics = [[{} for _ in self.actions] for _ in self.states]\n",
    "        self.find_p()\n",
    "    \n",
    "    def find_p(self):\n",
    "        for s in self.states:\n",
    "            for a in self.actions:\n",
    "                win_state = s+a\n",
    "                lose_state = s-a\n",
    "                if a <= s and s>0 and s<100 and a>0:\n",
    "                    win_p = self.ph\n",
    "                    lose_p = 1-self.ph\n",
    "                else:\n",
    "                    win_p = 0\n",
    "                    lose_p = 0\n",
    "                if lose_state < 0:\n",
    "                    lose_state = 0\n",
    "                if win_state >= 100:\n",
    "                    win_state = 100\n",
    "                    r = 1\n",
    "                else:\n",
    "                    r = 0\n",
    "                try:\n",
    "                    self.dynamics[s][a][tuple([win_state, r])] += win_p\n",
    "                except:\n",
    "                    self.dynamics[s][a][tuple([win_state, r])] = win_p\n",
    "                try:\n",
    "                    self.dynamics[s][a][tuple([lose_state, 0])] += lose_p\n",
    "                except:\n",
    "                    self.dynamics[s][a][tuple([lose_state, 0])] = lose_p\n",
    "\n",
    "                "
   ]
  },
  {
   "cell_type": "code",
   "execution_count": 3,
   "metadata": {},
   "outputs": [],
   "source": [
    "def policy_evaluation(rlprob):\n",
    "    delta = np.inf\n",
    "    theta = 0\n",
    "    while delta > theta:\n",
    "        delta = 0\n",
    "        for s in rlprob.states:\n",
    "            old = rlprob.V[s]\n",
    "            rlprob.V[s] = 0\n",
    "            for a in rlprob.actions:\n",
    "                if rlprob.pi[s] == a:\n",
    "                    transitions = rlprob.dynamics[s][a]\n",
    "                    for transition in transitions:\n",
    "                        s_ = transition[0]\n",
    "                        r = transition[1]\n",
    "                        p = transitions[transition]\n",
    "                        rlprob.V[s] += p*(r+rlprob.V[s_])\n",
    "            if delta == np.inf or abs(rlprob.V[s]-old) > delta:\n",
    "                delta = abs(rlprob.V[s]-old)\n",
    "\n",
    "def policy_improvement(rlprob):\n",
    "    stable = True\n",
    "    for s in rlprob.states:\n",
    "        old = rlprob.pi[s]\n",
    "        max_val = -np.inf\n",
    "        for a in rlprob.actions:\n",
    "            val = 0\n",
    "            transitions = rlprob.dynamics[s][a]\n",
    "            for transition in transitions:\n",
    "                s_ = transition[0]\n",
    "                r = transition[1]\n",
    "                p = transitions[transition]\n",
    "                val += p*(r+rlprob.V[s_])\n",
    "            if val > max_val:\n",
    "                max_val = val\n",
    "                best_action = a\n",
    "        rlprob.pi[s] = best_action\n",
    "        if best_action != old:\n",
    "            stable = False\n",
    "    return stable\n",
    "\n",
    "\n",
    "def policy_iteration(rlprob):\n",
    "    done = False\n",
    "    itera = 0\n",
    "    while not done:\n",
    "        print(itera)\n",
    "        itera += 1\n",
    "        policy_evaluation(a)\n",
    "        done = policy_improvement(a)\n",
    "                        "
   ]
  },
  {
   "cell_type": "code",
   "execution_count": 4,
   "metadata": {},
   "outputs": [
    {
     "name": "stdout",
     "output_type": "stream",
     "text": [
      "0\n",
      "1\n",
      "2\n",
      "3\n",
      "4\n",
      "5\n"
     ]
    },
    {
     "data": {
      "text/plain": [
       "<matplotlib.collections.PathCollection at 0x7fbc380e1400>"
      ]
     },
     "execution_count": 4,
     "metadata": {},
     "output_type": "execute_result"
    },
    {
     "data": {
      "image/png": "[encoded data removed]",
      "text/plain": [
       "<Figure size 432x288 with 2 Axes>"
      ]
     },
     "metadata": {
      "needs_background": "light"
     },
     "output_type": "display_data"
    }
   ],
   "source": [
    "a = Gambler(ph=.25)\n",
    "policy_iteration(a)\n",
    "plt.subplot(2, 1, 1)\n",
    "plt.scatter(y=a.pi, x=range(len(a.pi)))   \n",
    "plt.subplot(2, 1, 2)\n",
    "plt.scatter(y=a.V, x=range(len(a.V)))"
   ]
  },
  {
   "cell_type": "code",
   "execution_count": 5,
   "metadata": {},
   "outputs": [
    {
     "name": "stdout",
     "output_type": "stream",
     "text": [
      "0\n",
      "1\n",
      "2\n",
      "3\n",
      "4\n",
      "5\n",
      "6\n",
      "7\n",
      "8\n",
      "9\n"
     ]
    },
    {
     "data": {
      "text/plain": [
       "<matplotlib.collections.PathCollection at 0x7fbc3761fc88>"
      ]
     },
     "execution_count": 5,
     "metadata": {},
     "output_type": "execute_result"
    },
    {
     "data": {
      "image/png": "[encoded data removed]",
      "text/plain": [
       "<Figure size 432x288 with 2 Axes>"
      ]
     },
     "metadata": {
      "needs_background": "light"
     },
     "output_type": "display_data"
    }
   ],
   "source": [
    "a = Gambler(ph=.55)\n",
    "policy_iteration(a)\n",
    "plt.subplot(2, 1, 1)\n",
    "plt.scatter(y=a.pi, x=range(len(a.pi)))   \n",
    "plt.subplot(2, 1, 2)\n",
    "plt.scatter(y=a.V, x=range(len(a.V)))"
   ]
  },
  {
   "cell_type": "code",
   "execution_count": 9,
   "metadata": {},
   "outputs": [
    {
     "name": "stdout",
     "output_type": "stream",
     "text": [
      "0\n",
      "1\n",
      "2\n",
      "3\n",
      "4\n",
      "5\n",
      "6\n"
     ]
    },
    {
     "data": {
      "text/plain": [
       "<matplotlib.collections.PathCollection at 0x7fbc3759c588>"
      ]
     },
     "execution_count": 9,
     "metadata": {},
     "output_type": "execute_result"
    },
    {
     "data": {
      "image/png": "[encoded data removed]",
      "text/plain": [
       "<Figure size 432x288 with 2 Axes>"
      ]
     },
     "metadata": {
      "needs_background": "light"
     },
     "output_type": "display_data"
    }
   ],
   "source": [
    "a = Gambler(ph=.45)\n",
    "policy_iteration(a)\n",
    "plt.subplot(2, 1, 1)\n",
    "plt.scatter(y=a.pi, x=range(len(a.pi)))   \n",
    "plt.subplot(2, 1, 2)\n",
    "plt.scatter(y=a.V, x=range(len(a.V)))"
   ]
  },
  {
   "cell_type": "code",
   "execution_count": null,
   "metadata": {},
   "outputs": [],
   "source": []
  }
 ],
 "metadata": {
  "kernelspec": {
   "display_name": "Python 3",
   "language": "python",
   "name": "python3"
  },
  "language_info": {
   "codemirror_mode": {
    "name": "ipython",
    "version": 3
   },
   "file_extension": ".py",
   "mimetype": "text/x-python",
   "name": "python",
   "nbconvert_exporter": "python",
   "pygments_lexer": "ipython3",
   "version": "3.7.3"
  }
 },
 "nbformat": 4,
 "nbformat_minor": 2
}
